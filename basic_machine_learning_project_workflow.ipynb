{
  "nbformat": 4,
  "nbformat_minor": 0,
  "metadata": {
    "colab": {
      "provenance": [],
      "toc_visible": true
    },
    "kernelspec": {
      "name": "python3",
      "display_name": "Python 3"
    },
    "language_info": {
      "name": "python"
    }
  },
  "cells": [
    {
      "cell_type": "markdown",
      "source": [
        "# **Basic Machine Learning Project Workflow**"
      ],
      "metadata": {
        "id": "-TbkKFlFqa3F"
      }
    },
    {
      "cell_type": "markdown",
      "source": [
        "## **Data Evaluation and Data Dictionary**"
      ],
      "metadata": {
        "id": "TzDHmFSKqnDd"
      }
    },
    {
      "cell_type": "markdown",
      "source": [
        "**Write the Approach in which steps you are going to do the Project**"
      ],
      "metadata": {
        "id": "EwD4_FlbqwRe"
      }
    },
    {
      "cell_type": "markdown",
      "source": [
        "**Mention the Website where you have took the Data**"
      ],
      "metadata": {
        "id": "q8KYkyC8q_HU"
      }
    },
    {
      "cell_type": "markdown",
      "source": [
        "**Write the Data Dictionary**"
      ],
      "metadata": {
        "id": "SD4t90VIq6B3"
      }
    },
    {
      "cell_type": "markdown",
      "source": [
        "## **Importing the Dependencies**"
      ],
      "metadata": {
        "id": "yNKb0VlprMWV"
      }
    },
    {
      "cell_type": "markdown",
      "source": [
        "**Import all the Tools we Need**  \n",
        "**Regular EDA(Exploratory Data Analysis) and Plotting Libraries**  \n",
        "import numpy as np  \n",
        "import pandas as pd  \n",
        "import matplotlib.pyplot as plt  \n",
        "import seaborn as sns  \n",
        "\n",
        "**inline because we want the plots to appear inside the Notebook**  \n",
        "%matplotlib inline  \n",
        "\n",
        "\n",
        "**Models from Scikit-Learn**  \n",
        "from sklearn.linear_model import LogisticRegression  \n",
        "from sklearn.neighbors import KNeighborsClassifier  \n",
        "from sklearn.ensemble import RandomForestClassifier  \n",
        "\n",
        "**Model Evaluations**  \n",
        "from sklearn.model_selection import train_test_split, cross_val_score  \n",
        "from sklearn.model_selection import RandomizedSearchCV, GridSearchCV  \n",
        "from sklearn.metrics import confusion_matrix, classification_report  \n",
        "from sklearn.metrics import precision_score, recall_score, f1_score  "
      ],
      "metadata": {
        "id": "RHziUQvlrQzF"
      }
    },
    {
      "cell_type": "markdown",
      "source": [
        "## **Loading the Data and Visualizing**"
      ],
      "metadata": {
        "id": "VX-dHWWXrzhW"
      }
    },
    {
      "cell_type": "markdown",
      "source": [
        "**Loading the Data**  \n",
        "df = pd.read_csv(\"/content/heart-disease.csv\")  \n",
        "\n",
        "**Shape comes in the Form of (Rows, Columns)**  \n",
        "df.shape  \n",
        "\n",
        "**df shows the entire data**\n",
        "df  "
      ],
      "metadata": {
        "id": "d20Turoir6IF"
      }
    },
    {
      "cell_type": "markdown",
      "source": [
        "## **Viewing the Data**"
      ],
      "metadata": {
        "id": "W54PMSC7sNo9"
      }
    },
    {
      "cell_type": "markdown",
      "source": [
        "### **head**  \n",
        "*head shows the first five rows of the Data*  \n",
        "- df.head()\n"
      ],
      "metadata": {
        "id": "Tab063YWsRvw"
      }
    },
    {
      "cell_type": "markdown",
      "source": [
        "### **tail**  \n",
        "*head shows the last five rows of the Data*  \n",
        "- df.tail()\n"
      ],
      "metadata": {
        "id": "JAx5toJrsRtN"
      }
    },
    {
      "cell_type": "markdown",
      "source": [
        "### **value counts**\n",
        "*value_counts() helps us to find how many of each class are their*  \n",
        "- df[\"target\"].value_counts()"
      ],
      "metadata": {
        "id": "WLH3GIGVsRqv"
      }
    },
    {
      "cell_type": "markdown",
      "source": [
        "### **bar graph plotting**\n",
        "*plotting a bar graph for the patient who has heart disease or not*  \n",
        "- df[\"target\"].value_counts().plot(kind=\"bar\", color=[\"red\", \"blue\"]);"
      ],
      "metadata": {
        "id": "8D7jeEYJsRoE"
      }
    },
    {
      "cell_type": "markdown",
      "source": [
        "### **info**\n",
        "*info about he data*  \n",
        "- df.info()"
      ],
      "metadata": {
        "id": "m9PMTBjSsRll"
      }
    },
    {
      "cell_type": "markdown",
      "source": [
        "### **missing values check**\n",
        "*check if their any missing values*  \n",
        "- df.isna().sum()"
      ],
      "metadata": {
        "id": "_crURe3lsRjF"
      }
    },
    {
      "cell_type": "markdown",
      "source": [
        "### **describe**\n",
        "*describe gives numerical values of all our columns*  \n",
        "- df.describe()  "
      ],
      "metadata": {
        "id": "-Vy15T6psRgs"
      }
    },
    {
      "cell_type": "markdown",
      "source": [
        "### **crosstab**\n",
        "*Compare target column to sex column*  \n",
        "- pd.crosstab(df.target, df.sex)"
      ],
      "metadata": {
        "id": "eJvqbhwmsReO"
      }
    },
    {
      "cell_type": "markdown",
      "source": [
        "## **Preparing Graphs**"
      ],
      "metadata": {
        "id": "LTwcsFgQsRXO"
      }
    },
    {
      "cell_type": "markdown",
      "source": [
        "### **Bar Graph**\n",
        "\n"
      ],
      "metadata": {
        "id": "6e_mt3Aqu5Hp"
      }
    },
    {
      "cell_type": "markdown",
      "source": [
        "*Create a Plot of crosstab*  \n",
        "- pd.crosstab(df.target, df.sex).plot(kind=\"bar\", figsize=(10, 6), color=[\"yellow\", \"orange\"])\n",
        "\n",
        "*title shows the heading of the Plot*  \n",
        "- plt.title(\"Heart Disease Frequency for Different Genders\")\n",
        "\n",
        "*xlabel shows the data required below the plot*  \n",
        "- plt.xlabel(\"0 = No Heart Disease, 1 = Heart Disease\")\n",
        "\n",
        "*ylabel shows the data required in the side*  \n",
        "- plt.ylabel(\"Amount\")\n",
        "\n",
        "*legend shows the data required in the legend*    \n",
        "- plt.legend([\"Female\", \"Male\"])\n",
        "\n",
        "*shows small ticks between the bars*  \n",
        "- plt.xticks(rotation=0)"
      ],
      "metadata": {
        "id": "zYT_jGETDSYA"
      }
    },
    {
      "cell_type": "markdown",
      "source": [
        "### **Scatter Plot**  \n",
        "\n",
        " \n",
        "\n"
      ],
      "metadata": {
        "id": "_wSsDtiivxeA"
      }
    },
    {
      "cell_type": "markdown",
      "source": [
        "*Creating another figure*  \n",
        "- plt.figure(figsize = (10,6))  \n",
        "\n",
        "*scatter with positive examples*  \n",
        "*age where target is 1 and thalach where target is 1*  \n",
        "- plt.scatter(df.age[df.target==1], df.thalach[df.target==1], c=\"red\")  \n",
        "\n",
        "*scatter with negative examples*  \n",
        "*age where target is 0 and thalach where target is 0*\n",
        "- plt.scatter(df.age[df.target==0], df.thalach[df.target==0], c=\"blue\")  \n",
        "\n",
        "*Adding some helper information*  \n",
        "- plt.title(\"Heart Disease in Function of Age and Max Heart Rate\")  \n",
        "- plt.xlabel(\"Age\")  \n",
        "- plt.ylabel(\"Max Heart Rate\")  \n",
        "- plt.legend([\"Heart Disease\",\"No Heart Disease\"]); "
      ],
      "metadata": {
        "id": "zPQ2CNNtDKDx"
      }
    },
    {
      "cell_type": "markdown",
      "source": [
        "### **Histogram**\n",
        "\n"
      ],
      "metadata": {
        "id": "8YK5vauBw5y3"
      }
    },
    {
      "cell_type": "markdown",
      "source": [
        "*Checking the Distribution of Age Column with Histogram*  \n",
        "- df.age.plot.hist()"
      ],
      "metadata": {
        "id": "R0pCWTXsDFjI"
      }
    },
    {
      "cell_type": "markdown",
      "source": [
        "### **Bar Graph 2**"
      ],
      "metadata": {
        "id": "69clbN3NyHot"
      }
    },
    {
      "cell_type": "markdown",
      "source": [
        "*Make the Crosstab more visual*  \n",
        "*making a bar plot between chest pain(cp) and target to make different types of chest pain more visible*  \n",
        "- pd.crosstab(df.cp, df.target).plot(kind=\"bar\", figsize=(10, 6), color=[\"yellow\", \"red\"])  \n",
        "\n",
        "*Add some Helper Text*  \n",
        "- plt.title(\"Heart Disease Frequency per Chest Pain\")\n",
        "- plt.xlabel(\"Chest Pain Type\")\n",
        "- plt.ylabel(\"Amount\")\n",
        "- plt.legend([\"No Heart Disease\", \"Heart Disease\"])\n",
        "- plt.xticks(rotation=0);"
      ],
      "metadata": {
        "id": "O5A7CpVbyLzE"
      }
    },
    {
      "cell_type": "markdown",
      "source": [
        "### **Corelation Matrix with Heatmap**"
      ],
      "metadata": {
        "id": "RN_-LR40yvNM"
      }
    },
    {
      "cell_type": "markdown",
      "source": [
        "*making a corelation matrix*  \n",
        "- df.corr()\n",
        "\n"
      ],
      "metadata": {
        "id": "TarFYdgLCYbi"
      }
    },
    {
      "cell_type": "markdown",
      "source": [
        "*making correlation matrix a little beautiful*\n",
        "- corr_matrix = df.corr()  \n",
        "- fig, ax = plt.subplots(figsize=(15, 10))  \n",
        "\n",
        "*using heatmap from seaborn*\n",
        "- ax = sns.heatmap(corr_matrix,  annot=True, linewidth=0.5, fmt=\".2f\", cmap=\"RdYlGn\");  \n",
        "- bottom, top = ax.get_ylim()  \n",
        "- ax.set_ylim(bottom + 0.5, top - 0.5)  \n",
        "\n",
        "\n",
        "*Negative Correlation: Relationship Between Two Variables in which one variable increases and the other variable Decreases*"
      ],
      "metadata": {
        "id": "1BIFqA05Ca7g"
      }
    },
    {
      "cell_type": "markdown",
      "source": [
        "## **Machine Learning Modelling**"
      ],
      "metadata": {
        "id": "GSh-AHwcy0sX"
      }
    },
    {
      "cell_type": "markdown",
      "source": [
        "### **Splitting Data on X and y**"
      ],
      "metadata": {
        "id": "wFh-sJyIy0p8"
      }
    },
    {
      "cell_type": "markdown",
      "source": [
        "*Split data into column X and y*  \n",
        "\n",
        "*Delete target column and storing it into X*  \n",
        "- X = df.drop(\"target\", axis = 1)\n",
        "\n",
        "*storing only target column in y*\n",
        "- y = df[\"target\"]"
      ],
      "metadata": {
        "id": "RzCmy9rmy0nc"
      }
    },
    {
      "cell_type": "markdown",
      "source": [
        "Viewing X and y Data"
      ],
      "metadata": {
        "id": "d_ePK5_sy0k5"
      }
    },
    {
      "cell_type": "markdown",
      "source": [
        "*Split data into train and Test sets*  \n",
        "- np.random.seed(42)\n",
        "\n",
        "*Split data into train and test sets*  \n",
        "- X_train, X_test, y_train, y_test = train_test_split(X, y, test_size=0.2)"
      ],
      "metadata": {
        "id": "MNHK8aBwy0iT"
      }
    },
    {
      "cell_type": "markdown",
      "source": [
        "### **Making a Function for Models**"
      ],
      "metadata": {
        "id": "L15FthAmy0f0"
      }
    },
    {
      "cell_type": "markdown",
      "source": [
        "*putting models in the dictionary*  \n",
        "- models = {\"Logistic Regression\" : LogisticRegression(), \"KNN\" : KNeighborsClassifier(), \"Random Forest\" : RandomForestClassifier()}\n",
        "\n",
        "*create a function to fit and score models*  \n",
        "- def fit_and_score(models, X_train, X_test, y_train, y_test):  \n",
        "      \"\"\"  \n",
        "      It fits and evaluates machine learing modesl\n",
        "      models are a dictionary of different Scikit-Learn machinie learning models..  \n",
        "      X_train : training data with no labels  \n",
        "      X_test : testing data with no labels  \n",
        "      y_train : training labels  \n",
        "      y_test : testing labels  \n",
        "      \"\"\"  \n",
        "      # setting random seed\n",
        "      np.random.seed(42)\n",
        "\n",
        "      # make dictionary to keep model scores\n",
        "      model_scores = {}\n",
        "\n",
        "      # loop through models\n",
        "      for name, model in models.items():\n",
        "        # fit the model to the data\n",
        "        model.fit(X_train, y_train)\n",
        "        # evaluate the model and append its score to model_scores\n",
        "        model_scores[name] = model.score(X_test, y_test)\n",
        "      return model_scores"
      ],
      "metadata": {
        "id": "cSr229mVJSj8"
      }
    },
    {
      "cell_type": "markdown",
      "source": [
        "### **Checking Model Scores**"
      ],
      "metadata": {
        "id": "7-f0ML4LKHkd"
      }
    },
    {
      "cell_type": "markdown",
      "source": [
        "model_scores = fit_and_score(models = models,  \n",
        "                             X_train = X_train,  \n",
        "                             X_test = X_test,  \n",
        "                             y_train = y_train,  \n",
        "                             y_test = y_test)  \n",
        "model_scores"
      ],
      "metadata": {
        "id": "OmsgYxg2KD1s"
      }
    },
    {
      "cell_type": "markdown",
      "source": [
        "**Model Comparison**\n",
        "\n",
        "- model_compare = pd.DataFrame(model_scores, index=[\"accuracy\"])  \n",
        "- model_compare.T.plot.bar();"
      ],
      "metadata": {
        "id": "D71E-VivKOSf"
      }
    },
    {
      "cell_type": "markdown",
      "source": [
        "### **Model Storing and Predicting**"
      ],
      "metadata": {
        "id": "e9iom5j2KmbX"
      }
    },
    {
      "cell_type": "markdown",
      "source": [
        "*using the Logistic Regression model and storing it in variable known as model*  \n",
        "- model = LogisticRegression()"
      ],
      "metadata": {
        "id": "3ve6REnfKrkj"
      }
    },
    {
      "cell_type": "markdown",
      "source": [
        "*Now using the Logistic Regression Model\n",
        "training the model with train datasets*\n",
        "- model.fit(X_train, y_train)"
      ],
      "metadata": {
        "id": "K9QubUWPKriL"
      }
    },
    {
      "cell_type": "markdown",
      "source": [
        "*Accuracy on the Training Data\n",
        "Predicting on X_train and storing it in variable named X_train_prediction*  \n",
        "- X_train_prediction = model.predict(X_train)\n",
        "- training_data_accuracy = accuracy_score(X_train_prediction, y_train)"
      ],
      "metadata": {
        "id": "s_GBrJWeKrfc"
      }
    },
    {
      "cell_type": "markdown",
      "source": [
        "*printing the accuracy score*  \n",
        "- print(\"Accuracy on Training Data: \",training_data_accuracy*100)"
      ],
      "metadata": {
        "id": "w0M4BGcLKrcX"
      }
    },
    {
      "cell_type": "markdown",
      "source": [
        "*Accuracy on the Test Data*  \n",
        "*predicting the accuracy on the test Data and storing it in variable X_test_prediction*  \n",
        "- X_test_prediction = model.predict(X_test)\n",
        "- test_data_accuracy = accuracy_score(X_test_prediction, y_test)"
      ],
      "metadata": {
        "id": "gG-JGLWnLo8G"
      }
    },
    {
      "cell_type": "markdown",
      "source": [
        "*printing the accuracy on test data*  \n",
        "- print(\"Accuracy on Test Data:\", test_data_accuracy*100)"
      ],
      "metadata": {
        "id": "owX-zUBGLo5l"
      }
    },
    {
      "cell_type": "markdown",
      "source": [
        "## **Output Prediction**"
      ],
      "metadata": {
        "id": "tfY4vBFALo22"
      }
    },
    {
      "cell_type": "markdown",
      "source": [
        "*We will give the input Data except the target to check wheather it person has heart disease or not*  \n",
        "- input_data = (57,1,0,130,131,0,1,115,1,1.2,1,1,3)\n",
        "\n",
        "*Change the input Data to Numpy Array*  \n",
        "- input_data_as_numpy_array = np.asarray(input_data)\n",
        "\n",
        "*Reshape the Numpy Arrayas we Predict for only one Instance*  \n",
        "- input_data_reshaped = input_data_as_numpy_array.reshape(1, -1)\n",
        "\n",
        "- prediction = model.predict(input_data_reshaped)\n",
        "print(prediction)\n",
        "\n",
        "if(prediction[0] == 0):  \n",
        "  print(\"The Person does not have Heart Disease\")  \n",
        "else:  \n",
        "  print(\"The Person has Heart Disease\")"
      ],
      "metadata": {
        "id": "rdzzH_mMLoz7"
      }
    },
    {
      "cell_type": "markdown",
      "source": [],
      "metadata": {
        "id": "Zg900Yk3LoxH"
      }
    },
    {
      "cell_type": "code",
      "source": [],
      "metadata": {
        "id": "TijwfugcqvrE"
      },
      "execution_count": null,
      "outputs": []
    }
  ]
}